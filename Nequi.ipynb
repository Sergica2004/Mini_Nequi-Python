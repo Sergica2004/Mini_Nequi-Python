{
 "cells": [
  {
   "cell_type": "code",
   "execution_count": 13,
   "metadata": {},
   "outputs": [],
   "source": [
    "nombre=[]\n",
    "apellido=[]\n",
    "usuario=[]\n",
    "clave=[]\n",
    "\n",
    "class Nequi:\n",
    "\n",
    "    def Inicio(self):\n",
    "        print(\"-----NequiChiquito-----\")\n",
    "        print(\"1)Iniciar sesion.\")\n",
    "        print(\"2)Crear Usuario\")\n",
    "        "
   ]
  },
  {
   "cell_type": "code",
   "execution_count": 14,
   "metadata": {},
   "outputs": [
    {
     "name": "stdout",
     "output_type": "stream",
     "text": [
      "-----NequiChiquito-----\n",
      "1)Iniciar sesion.\n",
      "2)Crear Usuario\n",
      "Datos incorrectos.\n"
     ]
    },
    {
     "ename": "",
     "evalue": "",
     "output_type": "error",
     "traceback": [
      "\u001b[1;31mEl Kernel se bloqueó al ejecutar código en la celda actual o en una celda anterior. Revise el código de las celdas para identificar una posible causa del error. Haga clic <a href='https://aka.ms/vscodeJupyterKernelCrash'>aquí</a> para obtener más información. Vea el [registro] de Jupyter (command:jupyter.viewOutput) para obtener más detalles."
     ]
    }
   ],
   "source": [
    "class Cuerpo(Nequi):\n",
    "    def Cuerpi(self):\n",
    "        opcion=int(input(\"Eliga su opcion: \"))\n",
    "        if opcion==1:\n",
    "            username=input(\"Usuario: \")\n",
    "            password= int(input(\"Contraseña: \"))\n",
    "\n",
    "            if username==usuario and password==clave:\n",
    "                print(\"Inicio de Sesion correcto.\")\n",
    "                print(\"Bienvenido, \", nombre)\n",
    "                saldo=0\n",
    "                print(\"Desea recagar su cuenta de ahorros Nequi?\")\n",
    "                print(\"1=Si      2=No\")\n",
    "                recargar=int(input(\"Por favor, Eliga su opcion; \"))\n",
    "                if recargar==1:\n",
    "                    consignacion=int(input(\"Digite la cantidad que desea consignar: $\"))\n",
    "                    total=consignacion+saldo\n",
    "                    print(\"En su cuenta de ahorros Nequi hay un total de $\",total)\n",
    "                    print(\"Deseas retirar?\")\n",
    "                    print(\"1=Si      2=No\")\n",
    "                    opcion1=int(input(\"Eliga una opcion: \"))\n",
    "                    if opcion1==1:\n",
    "                        print(\"Tenga en cuenta que su cuenta de ahorros nequi hay disponible: $\",total)\n",
    "                        retiro=int(input(\"Digite la cantidad que desea consignar: $\"))\n",
    "                        totalr=total-retiro\n",
    "                        print(\"El retiro fue de: $\",retiro)\n",
    "                        print(\"Su saldo es de: $\",totalr)\n",
    "                    else:\n",
    "                        print(\"Su saldo sigue siendo de \",saldo,\" pesos.\")\n",
    "\n",
    "                else:\n",
    "                    print(\"Su saldo sigue siendo de \",saldo,\" pesos.\")\n",
    "\n",
    "            else: \n",
    "                print(\"Datos incorrectos.\")\n",
    "                exit()\n",
    "                \n",
    "        elif opcion==2:\n",
    "            print(\"----Registro---\")\n",
    "            crea_nombre=str(input(\"Nombres: \"))\n",
    "            nombre.append(crea_nombre)\n",
    "            crea_apellido=str(input(\"Apellido: \"))\n",
    "            apellido.append(crea_apellido)\n",
    "            crea_usuario=str(input(\"Cree un Usuario: \"))\n",
    "            usuario.append(crea_usuario)\n",
    "            crea_contraseña=int(input(\"Cree una contraseña: \"))\n",
    "            clave.append(crea_contraseña)\n",
    "            print(\"-----NequiChiquito-----\")\n",
    "            print(\"1)Iniciar sesion.\")\n",
    "            print(\"2)Crear Usuario\")\n",
    "            opcion=int(input(\"Eliga su opcion: \"))\n",
    "            if opcion==1:\n",
    "                username1=input(\"Usuario: \")\n",
    "                password2= int(input(\"Contraseña: \"))\n",
    "                if username1==usuario[0] and password2==clave[0]:\n",
    "                    print(\"Inicio de Sesion correcto.\")\n",
    "                    print(\"Bienvenido, \",crea_nombre,\"\",crea_apellido)\n",
    "                    saldo=0\n",
    "                    print(\"Desea recagar su cuenta de ahorros Nequi?\")\n",
    "                    print(\"1=Si      2=No\")\n",
    "                    recargar=int(input(\"Por favor, Eliga su opcion; \"))\n",
    "                    if recargar==1:\n",
    "                        consignacion=int(input(\"Digite la cantidad que desea consignar: $\"))\n",
    "                        total=consignacion+saldo\n",
    "                        print(\"En su cuenta de ahorros Nequi hay un total de $\",total)\n",
    "                        print(\"Deseas retirar?\")\n",
    "                        print(\"1=Si      2=No\")\n",
    "                        opcion1=int(input(\"Eliga una opcion: \"))\n",
    "                        if opcion1==1:\n",
    "                            print(\"Tenga en cuenta que su cuenta de ahorros nequi hay disponible: $\",total)\n",
    "                            retiro=int(input(\"Digite la cantidad que desea consignar: $\"))\n",
    "                            totalr=total-retiro\n",
    "                            print(\"El retiro fue de: $\",retiro)\n",
    "                            print(\"Su saldo es de: $\",totalr)\n",
    "                        else:\n",
    "                            print(\"Su saldo sigue siendo de \",total,\" pesos.\")\n",
    "\n",
    "                else:\n",
    "                    print(\"Su saldo sigue siendo de \",total,\" pesos.\")\n",
    "\n",
    "            else:\n",
    "                print(\"Datos incorrectos.\")\n",
    "                exit()\n",
    "\n",
    "s=Nequi()\n",
    "s.Inicio()\n",
    "a=Cuerpo()\n",
    "a.Cuerpi()\n"
   ]
  }
 ],
 "metadata": {
  "kernelspec": {
   "display_name": "Python 3.10.7 64-bit",
   "language": "python",
   "name": "python3"
  },
  "language_info": {
   "codemirror_mode": {
    "name": "ipython",
    "version": 3
   },
   "file_extension": ".py",
   "mimetype": "text/x-python",
   "name": "python",
   "nbconvert_exporter": "python",
   "pygments_lexer": "ipython3",
   "version": "3.10.7"
  },
  "orig_nbformat": 4,
  "vscode": {
   "interpreter": {
    "hash": "32c6339449b4cf06ee351aed924e88f9762792d742c7547b8d562183aee0f5cc"
   }
  }
 },
 "nbformat": 4,
 "nbformat_minor": 2
}
